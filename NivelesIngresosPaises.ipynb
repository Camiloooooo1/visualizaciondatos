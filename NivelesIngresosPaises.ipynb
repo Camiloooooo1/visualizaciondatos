{
  "nbformat": 4,
  "nbformat_minor": 0,
  "metadata": {
    "colab": {
      "provenance": [],
      "include_colab_link": true
    },
    "kernelspec": {
      "name": "python3",
      "display_name": "Python 3"
    },
    "language_info": {
      "name": "python"
    }
  },
  "cells": [
    {
      "cell_type": "markdown",
      "metadata": {
        "id": "view-in-github",
        "colab_type": "text"
      },
      "source": [
        "<a href=\"https://colab.research.google.com/github/Camiloooooo1/visualizaciondatos/blob/main/NivelesIngresosPaises.ipynb\" target=\"_parent\"><img src=\"https://colab.research.google.com/assets/colab-badge.svg\" alt=\"Open In Colab\"/></a>"
      ]
    },
    {
      "cell_type": "code",
      "execution_count": null,
      "metadata": {
        "id": "8kfbfrD4KTZ5"
      },
      "outputs": [],
      "source": [
        "\n",
        "%pip install pandas_datareader"
      ]
    },
    {
      "cell_type": "markdown",
      "source": [],
      "metadata": {
        "id": "HEi0Nxb2LuY3"
      }
    },
    {
      "cell_type": "code",
      "source": [
        "from pandas_datareader import wb\n",
        "from datetime import datetime"
      ],
      "metadata": {
        "id": "7vyFivLLLKhr"
      },
      "execution_count": null,
      "outputs": []
    },
    {
      "cell_type": "code",
      "source": [
        "df_info_paises = wb.get_countries()\n",
        "df_info_paises.head()"
      ],
      "metadata": {
        "id": "b1UgKy9LLZGY"
      },
      "execution_count": null,
      "outputs": []
    },
    {
      "cell_type": "code",
      "source": [
        "df_paises = df_info_paises[df_info_paises['region']!= 'Aggregates']"
      ],
      "metadata": {
        "id": "rGh4ocP4Les3"
      },
      "execution_count": null,
      "outputs": []
    },
    {
      "cell_type": "code",
      "source": [
        "import pandas as pd\n",
        "pd.pivot_table(data = df_paises, index = 'region',columns = 'incomeLevel',aggfunc='size', fill_value=0)"
      ],
      "metadata": {
        "id": "zr6SZqdDLlfG"
      },
      "execution_count": null,
      "outputs": []
    },
    {
      "cell_type": "code",
      "source": [
        "# Graficar de acuerdo al nivel de Ingreso\n",
        "import plotly.express as px\n",
        "\n",
        "\n",
        "# Crear el gráfico coroplético básico\n",
        "fig = px.choropleth(\n",
        "    df_paises,\n",
        "    locations='iso3c',\n",
        "    color='incomeLevel',\n",
        "    hover_name='name',\n",
        "    projection='natural earth',\n",
        "    title='Nivel de ingresos paises',\n",
        "    color_continuous_scale=px.colors.sequential.Blues_r  # Cambiar la escala de colores\n",
        ")\n",
        "\n",
        "# Ajustar el tamaño de la figura\n",
        "fig.update_layout(\n",
        "    width=1000,  # Ancho del gráfico\n",
        "    height=600,  # Altura del gráfico\n",
        "    title_font_size=24  # Tamaño de la fuente del título\n",
        ")\n",
        "\n",
        "# Mostrar el gráfico\n",
        "fig.show()"
      ],
      "metadata": {
        "id": "kH-dWfBpLnin"
      },
      "execution_count": null,
      "outputs": []
    }
  ]
}